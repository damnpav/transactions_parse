{
 "cells": [
  {
   "cell_type": "code",
   "execution_count": 58,
   "metadata": {
    "collapsed": true,
    "pycharm": {
     "name": "#%%\n"
    }
   },
   "outputs": [],
   "source": [
    "import pandas as pd\n",
    "import re\n",
    "import numpy as np"
   ]
  },
  {
   "cell_type": "code",
   "execution_count": 63,
   "outputs": [],
   "source": [
    "def parse_transactions(text):\n",
    "    # Split the text by date\n",
    "    date_splits = re.split(r'(\\d{2} (?:августа|июля), \\d{4} года)', text)\n",
    "\n",
    "    # Initialize lists to store transaction data\n",
    "    dates = []\n",
    "    times = []\n",
    "    transaction_types = []\n",
    "    mcc_codes = []\n",
    "    merchant_infos = []\n",
    "    local_currencies = []\n",
    "    usd_amounts = []\n",
    "    card_types = []\n",
    "\n",
    "    # Iterate over the split text\n",
    "    for i in range(1, len(date_splits), 2):\n",
    "        date = date_splits[i]\n",
    "        transactions = date_splits[i+1].split(\"\\n\")\n",
    "\n",
    "        j = 0\n",
    "        while j < len(transactions):\n",
    "            if transactions[j].strip() == \"\":\n",
    "                j += 1\n",
    "                continue\n",
    "\n",
    "            dates.append(date)\n",
    "            times.append(transactions[j].strip())\n",
    "\n",
    "            if j+1 < len(transactions):\n",
    "                transaction_types.append(transactions[j+1].strip())\n",
    "            else:\n",
    "                transaction_types.append(None)\n",
    "                break\n",
    "\n",
    "            if j+2 < len(transactions):\n",
    "                mcc_match = re.search(r'MCC (\\d+)', transactions[j+2])\n",
    "                mcc_codes.append(mcc_match.group(1) if mcc_match else None)\n",
    "                merchant_infos.append(re.sub(r'MCC \\d+ / ', '', transactions[j+2]).strip())\n",
    "            else:\n",
    "                mcc_codes.append(None)\n",
    "                merchant_infos.append(None)\n",
    "                break\n",
    "\n",
    "            # Check for local currency and USD amounts\n",
    "            if j+3 < len(transactions) and \"USD\" in transactions[j+3]:\n",
    "                local_currencies.append(None)\n",
    "                usd_amounts.append(transactions[j+3].strip())\n",
    "                j += 5\n",
    "            elif j+4 < len(transactions):\n",
    "                local_currencies.append(transactions[j+3].strip())\n",
    "                usd_amounts.append(transactions[j+4].strip())\n",
    "                j += 6\n",
    "            else:\n",
    "                local_currencies.append(None)\n",
    "                usd_amounts.append(None)\n",
    "                break\n",
    "\n",
    "            if j-1 < len(transactions):\n",
    "                card_types.append(transactions[j-1].strip())\n",
    "            else:\n",
    "                card_types.append(None)\n",
    "\n",
    "    # Ensure all lists have the same length by appending NaN values\n",
    "    max_len = max(len(dates), len(times), len(transaction_types), len(mcc_codes), len(merchant_infos), len(local_currencies), len(usd_amounts), len(card_types))\n",
    "\n",
    "    while len(local_currencies) < max_len:\n",
    "        local_currencies.append(np.nan)\n",
    "    while len(usd_amounts) < max_len:\n",
    "        usd_amounts.append(np.nan)\n",
    "    while len(card_types) < max_len:\n",
    "        card_types.append(np.nan)\n",
    "\n",
    "    # Create a pandas DataFrame\n",
    "    df = pd.DataFrame({\n",
    "        'Date': dates,\n",
    "        'Time': times,\n",
    "        'Transaction Type': transaction_types,\n",
    "        'MCC Code': mcc_codes,\n",
    "        'Merchant Information': merchant_infos,\n",
    "        'Amount in Local Currency': local_currencies,\n",
    "        'Amount in USD': usd_amounts,\n",
    "        'Card Type': card_types\n",
    "    })\n",
    "\n",
    "    return df"
   ],
   "metadata": {
    "collapsed": false,
    "pycharm": {
     "name": "#%%\n"
    }
   }
  },
  {
   "cell_type": "code",
   "execution_count": 65,
   "outputs": [],
   "source": [
    "trans_text = open('trans.txt', 'r').read()"
   ],
   "metadata": {
    "collapsed": false,
    "pycharm": {
     "name": "#%%\n"
    }
   }
  },
  {
   "cell_type": "code",
   "execution_count": 9,
   "outputs": [],
   "source": [],
   "metadata": {
    "collapsed": false,
    "pycharm": {
     "name": "#%%\n"
    }
   }
  },
  {
   "cell_type": "code",
   "execution_count": 66,
   "outputs": [],
   "source": [
    "df = parse_transactions(trans_text)"
   ],
   "metadata": {
    "collapsed": false,
    "pycharm": {
     "name": "#%%\n"
    }
   }
  },
  {
   "cell_type": "code",
   "execution_count": 69,
   "outputs": [],
   "source": [
    "df.to_excel('results_mtbank.xlsx', index=False)"
   ],
   "metadata": {
    "collapsed": false,
    "pycharm": {
     "name": "#%%\n"
    }
   }
  },
  {
   "cell_type": "code",
   "execution_count": null,
   "outputs": [],
   "source": [],
   "metadata": {
    "collapsed": false,
    "pycharm": {
     "name": "#%%\n"
    }
   }
  },
  {
   "cell_type": "code",
   "execution_count": null,
   "outputs": [],
   "source": [],
   "metadata": {
    "collapsed": false,
    "pycharm": {
     "name": "#%%\n"
    }
   }
  },
  {
   "cell_type": "code",
   "execution_count": 31,
   "outputs": [],
   "source": [
    "date_splits = re.split(r'(\\d{2} (?:августа|июля), \\d{4} года)', trans_text)"
   ],
   "metadata": {
    "collapsed": false,
    "pycharm": {
     "name": "#%%\n"
    }
   }
  },
  {
   "cell_type": "code",
   "execution_count": 33,
   "outputs": [],
   "source": [
    "# Initialize lists to store transaction data\n",
    "dates = []\n",
    "times = []\n",
    "transaction_types = []\n",
    "mcc_codes = []\n",
    "merchant_infos = []\n",
    "local_currencies = []\n",
    "usd_amounts = []\n",
    "card_types = []"
   ],
   "metadata": {
    "collapsed": false,
    "pycharm": {
     "name": "#%%\n"
    }
   }
  },
  {
   "cell_type": "code",
   "execution_count": 17,
   "outputs": [
    {
     "data": {
      "text/plain": "49"
     },
     "execution_count": 17,
     "metadata": {},
     "output_type": "execute_result"
    }
   ],
   "source": [
    "len(date_splits)"
   ],
   "metadata": {
    "collapsed": false,
    "pycharm": {
     "name": "#%%\n"
    }
   }
  },
  {
   "cell_type": "code",
   "execution_count": null,
   "outputs": [],
   "source": [],
   "metadata": {
    "collapsed": false,
    "pycharm": {
     "name": "#%%\n"
    }
   }
  }
 ],
 "metadata": {
  "kernelspec": {
   "name": "transactions_parse",
   "language": "python",
   "display_name": "transactions_parse"
  },
  "language_info": {
   "codemirror_mode": {
    "name": "ipython",
    "version": 2
   },
   "file_extension": ".py",
   "mimetype": "text/x-python",
   "name": "python",
   "nbconvert_exporter": "python",
   "pygments_lexer": "ipython2",
   "version": "2.7.6"
  }
 },
 "nbformat": 4,
 "nbformat_minor": 0
}